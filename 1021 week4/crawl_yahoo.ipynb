{
 "cells": [
  {
   "cell_type": "code",
   "execution_count": null,
   "metadata": {},
   "outputs": [],
   "source": [
    "import requests\n",
    "import pandas as pd\n",
    "from bs4 import BeautifulSoup"
   ]
  },
  {
   "cell_type": "markdown",
   "metadata": {},
   "source": [
    "# 認識HTML"
   ]
  },
  {
   "cell_type": "code",
   "execution_count": null,
   "metadata": {},
   "outputs": [],
   "source": [
    "# 原始 HTML 程式碼\n",
    "html_doc = \"\"\"\n",
    "<html><head><title>Hello World</title></head>\n",
    "<body><h2>Test Header</h2>\n",
    "<p>This is a test.</p>\n",
    "<a id=\"link1\" href=\"/my_link1\">Link 1</a>\n",
    "<a id=\"link2\" href=\"/my_link2\">Link 2</a>\n",
    "<p>Hello, <b class=\"boldtext\">Bold Text</b></p>\n",
    "</body></html>\n",
    "\"\"\"\n",
    "\n",
    "# 輸出看看原始HTML程式碼長怎樣的網站:https://www.w3schools.com/html/tryit.asp?filename=tryhtml_default"
   ]
  },
  {
   "cell_type": "code",
   "execution_count": null,
   "metadata": {},
   "outputs": [],
   "source": [
    "soup = BeautifulSoup(html_doc,'html.parser')"
   ]
  },
  {
   "cell_type": "code",
   "execution_count": null,
   "metadata": {},
   "outputs": [],
   "source": [
    "soup"
   ]
  },
  {
   "cell_type": "code",
   "execution_count": null,
   "metadata": {},
   "outputs": [],
   "source": [
    "# 輸出排版後的 HTML 程式碼\n",
    "print(soup.prettify())"
   ]
  },
  {
   "cell_type": "markdown",
   "metadata": {},
   "source": [
    "## 搜尋節點"
   ]
  },
  {
   "cell_type": "code",
   "execution_count": null,
   "metadata": {},
   "outputs": [],
   "source": [
    "print(soup.head)\n",
    "print(soup.head.title)\n",
    "print(soup.head.title.text)"
   ]
  },
  {
   "cell_type": "code",
   "execution_count": null,
   "metadata": {},
   "outputs": [],
   "source": [
    "# 網頁標題 HTML 標籤\n",
    "title_tag = soup.title\n",
    "print(title_tag)"
   ]
  },
  {
   "cell_type": "code",
   "execution_count": null,
   "metadata": {},
   "outputs": [],
   "source": [
    "# 網頁的標題文字\n",
    "print(title_tag.text)"
   ]
  },
  {
   "cell_type": "code",
   "execution_count": null,
   "metadata": {},
   "outputs": [],
   "source": [
    "# HTML中'a'表示超連結\n",
    "a_tags = soup.find_all('a')\n",
    "for tag in a_tags:\n",
    "  # 輸出超連結的文字\n",
    "  print(tag.text)"
   ]
  },
  {
   "cell_type": "code",
   "execution_count": null,
   "metadata": {},
   "outputs": [],
   "source": [
    "# HTML中'href'表示超連結網址\n",
    "for tag in a_tags:\n",
    "  # 輸出超連結網址\n",
    "  print(tag.get('href'))"
   ]
  },
  {
   "cell_type": "code",
   "execution_count": null,
   "metadata": {},
   "outputs": [],
   "source": [
    "# 搜尋所有超連結與粗體字\n",
    "# HTML中'a'表示超連結\n",
    "# HTML中'b'表示粗體字\n",
    "tags = soup.find_all([\"a\", \"b\"])\n",
    "print(tags)"
   ]
  },
  {
   "cell_type": "code",
   "execution_count": null,
   "metadata": {},
   "outputs": [],
   "source": [
    "# 限制搜尋結果數量為2，tag會只保留前2個符合的結果\n",
    "tag_2 = soup.find_all([\"a\", \"b\"], limit=2)\n",
    "print(tag_2)"
   ]
  },
  {
   "cell_type": "code",
   "execution_count": null,
   "metadata": {},
   "outputs": [],
   "source": [
    "# 只抓出第一個符合條件的節點\n",
    "a_tag = soup.find(\"a\")\n",
    "print(a_tag)"
   ]
  },
  {
   "cell_type": "code",
   "execution_count": null,
   "metadata": {},
   "outputs": [],
   "source": [
    "# 預設會以遞迴搜尋所有的子節點\n",
    "print(soup.find_all(\"head\"))\n",
    "print(soup.find_all(\"title\"))\n",
    "print(\"============================================\")\n",
    "print(soup.find_all(\"body\"))\n",
    "print(soup.find_all(\"h2\"))\n",
    "print(soup.find_all(\"a\"))"
   ]
  },
  {
   "cell_type": "code",
   "execution_count": null,
   "metadata": {},
   "outputs": [],
   "source": [
    "# 預設會以遞迴搜尋所有的子節點\n",
    "print(soup.html.find_all(\"head\"))\n",
    "print(soup.html.find_all(\"title\"))\n",
    "print(\"============================================\")\n",
    "print(soup.html.find_all(\"body\"))\n",
    "print(soup.html.find_all(\"h2\"))\n",
    "print(soup.html.find_all(\"a\"))"
   ]
  },
  {
   "cell_type": "code",
   "execution_count": null,
   "metadata": {},
   "outputs": [],
   "source": [
    "# 不使用遞迴搜尋，僅尋找次一層的子節點\n",
    "print(soup.find_all(\"head\", recursive=False))\n",
    "print(soup.find_all(\"title\", recursive=False))\n",
    "print(\"============================================\")\n",
    "print(soup.find_all(\"body\", recursive=False))\n",
    "print(soup.find_all(\"h2\", recursive=False))\n",
    "print(soup.find_all(\"a\", recursive=False))"
   ]
  },
  {
   "cell_type": "code",
   "execution_count": null,
   "metadata": {},
   "outputs": [],
   "source": [
    "# 不使用遞迴搜尋，僅尋找次一層的子節點\n",
    "print(soup.html.find_all(\"head\", recursive=False))\n",
    "print(soup.html.find_all(\"title\", recursive=False))\n",
    "print(\"============================================\")\n",
    "print(soup.html.find_all(\"body\", recursive=False))\n",
    "print(soup.html.find_all(\"h2\", recursive=False))\n",
    "print(soup.html.find_all(\"a\", recursive=False))"
   ]
  },
  {
   "cell_type": "markdown",
   "metadata": {},
   "source": [
    "## 以HTML屬性搜尋"
   ]
  },
  {
   "cell_type": "code",
   "execution_count": null,
   "metadata": {},
   "outputs": [],
   "source": [
    "# 根據 id 搜尋\n",
    "link2_tag = soup.find(id='link2')\n",
    "print(link2_tag)"
   ]
  },
  {
   "cell_type": "code",
   "execution_count": null,
   "metadata": {},
   "outputs": [],
   "source": [
    "# 搜尋 id 屬性為 link2 的 a 節點\n",
    "a_link2_tag = soup.find_all(\"a\", id=\"link2\")\n",
    "print(a_link2_tag)"
   ]
  },
  {
   "cell_type": "markdown",
   "metadata": {},
   "source": [
    "## 以CSS搜尋"
   ]
  },
  {
   "cell_type": "code",
   "execution_count": null,
   "metadata": {},
   "outputs": [],
   "source": [
    "# 搜尋 class 為 boldtext 的 b 節點\n",
    "b_tag = soup.find_all(\"b\", class_=\"boldtext\")\n",
    "print(b_tag)"
   ]
  },
  {
   "cell_type": "markdown",
   "metadata": {},
   "source": [
    "# 實作1:Yahoo首頁頭條新聞"
   ]
  },
  {
   "cell_type": "code",
   "execution_count": null,
   "metadata": {},
   "outputs": [],
   "source": [
    "r = requests.get('https://tw.yahoo.com/')"
   ]
  },
  {
   "cell_type": "code",
   "execution_count": null,
   "metadata": {},
   "outputs": [],
   "source": [
    "r.text"
   ]
  },
  {
   "cell_type": "code",
   "execution_count": null,
   "metadata": {},
   "outputs": [],
   "source": [
    "soup = BeautifulSoup(r.text, 'html.parser')"
   ]
  },
  {
   "cell_type": "code",
   "execution_count": null,
   "metadata": {},
   "outputs": [],
   "source": [
    "soup"
   ]
  },
  {
   "cell_type": "code",
   "execution_count": null,
   "metadata": {},
   "outputs": [],
   "source": [
    "# 輸出排版後的 HTML 程式碼\n",
    "print(soup.prettify())"
   ]
  },
  {
   "cell_type": "code",
   "execution_count": null,
   "metadata": {},
   "outputs": [],
   "source": [
    "# 以 CSS 的 class 抓出各類頭條新聞\n",
    "stories = soup.find_all('a', class_='story-title')"
   ]
  },
  {
   "cell_type": "code",
   "execution_count": null,
   "metadata": {},
   "outputs": [],
   "source": [
    "for s in stories:\n",
    "    # 新聞標題\n",
    "    print(\"標題：\" + s.text)\n",
    "    # 新聞網址\n",
    "    print(\"網址：\" + s.get('href'))"
   ]
  },
  {
   "cell_type": "code",
   "execution_count": null,
   "metadata": {},
   "outputs": [],
   "source": []
  }
 ],
 "metadata": {
  "kernelspec": {
   "display_name": "Python 3",
   "language": "python",
   "name": "python3"
  },
  "language_info": {
   "codemirror_mode": {
    "name": "ipython",
    "version": 3
   },
   "file_extension": ".py",
   "mimetype": "text/x-python",
   "name": "python",
   "nbconvert_exporter": "python",
   "pygments_lexer": "ipython3",
   "version": "3.7.3"
  }
 },
 "nbformat": 4,
 "nbformat_minor": 2
}
