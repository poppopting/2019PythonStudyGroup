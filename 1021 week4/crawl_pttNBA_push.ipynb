{
 "cells": [
  {
   "cell_type": "code",
   "execution_count": null,
   "metadata": {},
   "outputs": [],
   "source": [
    "from selenium import webdriver\n",
    "from bs4 import BeautifulSoup\n",
    "import re #正規表達式"
   ]
  },
  {
   "cell_type": "markdown",
   "metadata": {},
   "source": [
    "    開啟網頁，抓取原始碼"
   ]
  },
  {
   "cell_type": "code",
   "execution_count": null,
   "metadata": {},
   "outputs": [],
   "source": [
    "driver = webdriver.Chrome('C:/Users/Kevin/Downloads/chromedriver.exe')\n",
    "driver.get('https://www.ptt.cc/bbs/NBA/index.html')\n",
    "print(driver.current_url)\n",
    "soup = BeautifulSoup(driver.page_source,'html.parser')\n",
    "driver.close()"
   ]
  },
  {
   "cell_type": "markdown",
   "metadata": {},
   "source": [
    "    select整理網址 => 抽取麻煩"
   ]
  },
  {
   "cell_type": "code",
   "execution_count": null,
   "metadata": {},
   "outputs": [],
   "source": [
    "soup"
   ]
  },
  {
   "cell_type": "code",
   "execution_count": null,
   "metadata": {},
   "outputs": [],
   "source": [
    "print(soup.prettify())"
   ]
  },
  {
   "cell_type": "code",
   "execution_count": null,
   "metadata": {},
   "outputs": [],
   "source": [
    "soup.select('div.title')\n",
    "# soup.find_all('div',class_='title')"
   ]
  },
  {
   "cell_type": "markdown",
   "metadata": {},
   "source": [
    "    正規化抽取 => 迅速、簡單"
   ]
  },
  {
   "cell_type": "code",
   "execution_count": null,
   "metadata": {},
   "outputs": [],
   "source": [
    "NBA_title = soup.find_all('a',href=re.compile(\"/bbs/NBA/M\")) #找href 關鍵字\n",
    "NBA_title"
   ]
  },
  {
   "cell_type": "markdown",
   "metadata": {},
   "source": [
    "    合併網址，並開啟"
   ]
  },
  {
   "cell_type": "code",
   "execution_count": null,
   "metadata": {},
   "outputs": [],
   "source": [
    "NBA_title[0]['href']"
   ]
  },
  {
   "cell_type": "code",
   "execution_count": null,
   "metadata": {},
   "outputs": [],
   "source": [
    "#將連結取出，並另外開啟\n",
    "url = \"https://www.ptt.cc\"+str(NBA_title[0]['href'])\n",
    "driver = webdriver.Chrome('C:/Users/Kevin/Downloads/chromedriver.exe')\n",
    "driver.get(url)"
   ]
  },
  {
   "cell_type": "markdown",
   "metadata": {},
   "source": [
    "    迴圈抓取多頁的所有推文"
   ]
  },
  {
   "cell_type": "code",
   "execution_count": null,
   "metadata": {},
   "outputs": [],
   "source": [
    "pushes = []\n",
    "for i in range(len(NBA_title)):\n",
    "    url = \"https://www.ptt.cc\"+ str(NBA_title[i]['href'])\n",
    "    driver = webdriver.Chrome('C:/Users/Kevin/Downloads/chromedriver.exe')\n",
    "    driver.get(url)\n",
    "    soup = BeautifulSoup(driver.page_source,\"html.parser\")\n",
    "    for j in range(len(soup.find_all(class_= \"f3 push-content\"))):\n",
    "        pushes.append(soup.find_all(class_= \"f3 push-content\")[j].text)\n",
    "    driver.close()"
   ]
  },
  {
   "cell_type": "code",
   "execution_count": null,
   "metadata": {},
   "outputs": [],
   "source": [
    "pushes"
   ]
  },
  {
   "cell_type": "code",
   "execution_count": null,
   "metadata": {},
   "outputs": [],
   "source": [
    "len(pushes)"
   ]
  },
  {
   "cell_type": "code",
   "execution_count": null,
   "metadata": {},
   "outputs": [],
   "source": [
    "t = open('nba_ptt_推文', 'w', encoding = 'UTF-8') \n",
    "t.write(str(pushes))"
   ]
  },
  {
   "cell_type": "code",
   "execution_count": null,
   "metadata": {},
   "outputs": [],
   "source": []
  }
 ],
 "metadata": {
  "kernelspec": {
   "display_name": "Python 3",
   "language": "python",
   "name": "python3"
  },
  "language_info": {
   "codemirror_mode": {
    "name": "ipython",
    "version": 3
   },
   "file_extension": ".py",
   "mimetype": "text/x-python",
   "name": "python",
   "nbconvert_exporter": "python",
   "pygments_lexer": "ipython3",
   "version": "3.7.3"
  }
 },
 "nbformat": 4,
 "nbformat_minor": 2
}
